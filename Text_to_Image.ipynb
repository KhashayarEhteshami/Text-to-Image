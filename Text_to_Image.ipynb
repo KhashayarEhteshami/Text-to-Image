{
  "metadata": {
    "kernelspec": {
      "language": "python",
      "display_name": "Python 3",
      "name": "python3"
    },
    "language_info": {
      "name": "python",
      "version": "3.7.10",
      "mimetype": "text/x-python",
      "codemirror_mode": {
        "name": "ipython",
        "version": 3
      },
      "pygments_lexer": "ipython3",
      "nbconvert_exporter": "python",
      "file_extension": ".py"
    },
    "colab": {
      "provenance": [],
      "include_colab_link": true
    }
  },
  "nbformat_minor": 0,
  "nbformat": 4,
  "cells": [
    {
      "cell_type": "markdown",
      "metadata": {
        "id": "view-in-github",
        "colab_type": "text"
      },
      "source": [
        "<a href=\"https://colab.research.google.com/github/KhashayarEhteshami/Text-to-Image/blob/main/Text_to_Image.ipynb\" target=\"_parent\"><img src=\"https://colab.research.google.com/assets/colab-badge.svg\" alt=\"Open In Colab\"/></a>"
      ]
    },
    {
      "cell_type": "code",
      "source": [
        "import os\n",
        "import io\n",
        "import h5py\n",
        "import torch\n",
        "import ipywidgets\n",
        "import numpy as np\n",
        "from torch import nn\n",
        "from PIL import Image\n",
        "from IPython import display\n",
        "from tqdm.notebook import tqdm\n",
        "import matplotlib.pyplot as plt\n",
        "from torchvision import transforms\n",
        "from torch.utils.data import DataLoader\n",
        "from torch.utils.data.sampler import SubsetRandomSampler\n",
        "from sklearn.model_selection import StratifiedShuffleSplit\n",
        "\n",
        "training = 1\n",
        "num_epoch = 30\n",
        "batch_size = 128\n",
        "device = \"cuda\" if torch.cuda.is_available() else \"cpu\"\n",
        "dataset_root = os.path.join(\"/\", \"kaggle\", \"input\", \"flowershd5dataset\")\n",
        "kernel_root = os.path.join(\"/\", \"kaggle\", \"input\", \"text-to-image-DistilBERT-pytorch\")"
      ],
      "metadata": {
        "_uuid": "8f2839f25d086af736a60e9eeb907d3b93b6e0e5",
        "_cell_guid": "b1076dfc-b9ad-4769-8c92-a6c4dae69d19",
        "execution": {
          "iopub.status.busy": "2022-08-25T21:22:41.304151Z",
          "iopub.execute_input": "2022-08-25T21:22:41.304428Z",
          "iopub.status.idle": "2022-08-25T21:22:43.873491Z",
          "shell.execute_reply.started": "2022-08-25T21:22:41.304402Z",
          "shell.execute_reply": "2022-08-25T21:22:43.872541Z"
        },
        "trusted": true,
        "id": "wlkmQ6FNVjAn"
      },
      "execution_count": null,
      "outputs": []
    },
    {
      "cell_type": "code",
      "source": [
        "num_epoch = 60"
      ],
      "metadata": {
        "execution": {
          "iopub.status.busy": "2022-08-25T21:23:04.894802Z",
          "iopub.execute_input": "2022-08-25T21:23:04.895223Z",
          "iopub.status.idle": "2022-08-25T21:23:04.899288Z",
          "shell.execute_reply.started": "2022-08-25T21:23:04.895178Z",
          "shell.execute_reply": "2022-08-25T21:23:04.898036Z"
        },
        "trusted": true,
        "id": "BLndXEkLVjAu"
      },
      "execution_count": null,
      "outputs": []
    },
    {
      "cell_type": "code",
      "source": [
        "from transformers import DistilBertModel, DistilBertConfig, DistilBertTokenizer"
      ],
      "metadata": {
        "execution": {
          "iopub.status.busy": "2022-08-25T21:23:10.760714Z",
          "iopub.execute_input": "2022-08-25T21:23:10.761037Z",
          "iopub.status.idle": "2022-08-25T21:23:11.067779Z",
          "shell.execute_reply.started": "2022-08-25T21:23:10.761004Z",
          "shell.execute_reply": "2022-08-25T21:23:11.066862Z"
        },
        "trusted": true,
        "id": "S88UmlCwVjAx"
      },
      "execution_count": null,
      "outputs": []
    },
    {
      "cell_type": "code",
      "source": [
        "class TrainDataset:\n",
        "    def __init__(self, dataset_root, kernel_root):\n",
        "        self.tokenizer = DistilBertTokenizer.from_pretrained(\"distilbert-base-uncased\")\n",
        "\n",
        "        if os.path.exists(os.path.join(kernel_root, \"data.npy\")):\n",
        "            self.data = np.load(os.path.join(kernel_root, \"data.npy\"), allow_pickle=True)\n",
        "        else:\n",
        "            f = h5py.File(os.path.join(dataset_root, \"data\", \"flowers\", \"flowers.hdf5\"), mode=\"r\")\n",
        "            self.data = self.prepareData(f['train'])\n",
        "        np.save('data.npy', self.data)\n",
        "        self.max_seq_len = max(map(lambda x: len(x[\"text\"][\"input_ids\"]), self.data))\n",
        "\n",
        "        self.transforms = transforms.Compose([\n",
        "            transforms.RandomHorizontalFlip(),\n",
        "            transforms.RandomRotation(degrees=(90, 90)),\n",
        "            transforms.RandomRotation(degrees=(180, 180)),\n",
        "            transforms.RandomRotation(degrees=(270, 270)),\n",
        "            transforms.RandomVerticalFlip(p=1),\n",
        "            transforms.Resize((64, 64)),\n",
        "            transforms.ToTensor(),\n",
        "        ])\n",
        "\n",
        "    def prepareData(self, data):\n",
        "        preparedData = []\n",
        "        for idx, img_name in enumerate(tqdm(data)):\n",
        "            image = np.array(Image.open(io.BytesIO(bytes(np.array(data[img_name]['img'])))).resize((256,256)))\n",
        "            text = np.array(data[img_name]['txt']).item().strip()\n",
        "            input_ids = self.tokenizer.encode(text)\n",
        "            token_type_ids = [0] * (len(input_ids) - 1) + [1]\n",
        "            attention_mask = [1] * len(token_type_ids)\n",
        "            preparedData.append({\n",
        "                \"image\": image,\n",
        "                \"text\": {\n",
        "                    \"input_ids\": input_ids,\n",
        "                    \"token_type_ids\": token_type_ids,\n",
        "                    \"attention_mask\": attention_mask\n",
        "                },\n",
        "            })\n",
        "        return preparedData\n",
        "\n",
        "    def padTokens(self, text_dict):\n",
        "        pad_len = self.max_seq_len - sum(text_dict[\"attention_mask\"])\n",
        "        text_dict['input_ids'] =  [5] * pad_len + text_dict['input_ids'] # <pad> = 5\n",
        "        text_dict['token_type_ids'] =  [2] * pad_len + text_dict['token_type_ids']\n",
        "        text_dict['attention_mask'] = [0] * pad_len + text_dict['attention_mask']   \n",
        "        return text_dict\n",
        "\n",
        "    @staticmethod\n",
        "    def collate_fn_module(batch, idx):\n",
        "        images, texts = [], {}\n",
        "        for data in batch:\n",
        "            images.append(data[idx][0])\n",
        "            for key in data[idx][1]:\n",
        "                if key not in texts:\n",
        "                    texts[key] = []\n",
        "                texts[key].append(data[0][1][key])\n",
        "\n",
        "        images = torch.stack(images).to(device)\n",
        "        for key in texts:\n",
        "            texts[key] = torch.tensor(texts[key]).to(device)\n",
        "        return images, texts\n",
        "\n",
        "    def collate_fn(self, batch):\n",
        "        right_images, right_texts = self.collate_fn_module(batch, 0)\n",
        "        wrong_images, wrong_texts = self.collate_fn_module(batch, 1)\n",
        "        return (right_images, right_texts), (wrong_images, wrong_texts)\n",
        "\n",
        "    def __len__(self):\n",
        "        return len(self.data)\n",
        "\n",
        "    def __getitem__(self, right_idx):\n",
        "        right_data = self.data[right_idx].copy()\n",
        "        right_image = self.transforms(Image.fromarray(right_data[\"image\"]))\n",
        "        right_text = self.padTokens(right_data[\"text\"].copy())\n",
        "\n",
        "        wrong_idx = np.random.choice([(i) for i in range(len(self.data)) if i != right_idx])\n",
        "        wrong_data = self.data[wrong_idx].copy()\n",
        "        wrong_image = self.transforms(Image.fromarray(wrong_data[\"image\"]))\n",
        "        wrong_text = self.padTokens(wrong_data[\"text\"].copy())\n",
        "        return (right_image, right_text), (wrong_image, wrong_text)"
      ],
      "metadata": {
        "execution": {
          "iopub.status.busy": "2022-08-25T21:23:15.915186Z",
          "iopub.execute_input": "2022-08-25T21:23:15.915550Z",
          "iopub.status.idle": "2022-08-25T21:23:15.932604Z",
          "shell.execute_reply.started": "2022-08-25T21:23:15.915519Z",
          "shell.execute_reply": "2022-08-25T21:23:15.931391Z"
        },
        "trusted": true,
        "id": "gZzFvH2YVjAz"
      },
      "execution_count": null,
      "outputs": []
    },
    {
      "cell_type": "code",
      "source": [
        "%%time\n",
        "train_dataset = TrainDataset(dataset_root, kernel_root)"
      ],
      "metadata": {
        "execution": {
          "iopub.status.busy": "2022-08-25T21:23:15.965365Z",
          "iopub.execute_input": "2022-08-25T21:23:15.965728Z",
          "iopub.status.idle": "2022-08-25T21:29:15.952040Z",
          "shell.execute_reply.started": "2022-08-25T21:23:15.965693Z",
          "shell.execute_reply": "2022-08-25T21:29:15.949691Z"
        },
        "trusted": true,
        "id": "K6Vl5rQRVjA1"
      },
      "execution_count": null,
      "outputs": []
    },
    {
      "cell_type": "code",
      "source": [
        "def visualize(image, text, tokenizer=None, ax = None, title = None):\n",
        "    if ax is None: _, ax = plt.subplots(1, 1, figsize = (10, 10))\n",
        "    if title: ax.set_title(title)\n",
        "    ax.imshow(image.permute(1, 2, 0))\n",
        "    if tokenizer== None:\n",
        "        pass\n",
        "    else:\n",
        "        ax.set_xlabel(tokenizer.decode([t for t in text[\"input_ids\"] if t != 5]))"
      ],
      "metadata": {
        "execution": {
          "iopub.status.busy": "2022-08-25T21:29:15.953790Z",
          "iopub.execute_input": "2022-08-25T21:29:15.954403Z",
          "iopub.status.idle": "2022-08-25T21:29:15.962389Z",
          "shell.execute_reply.started": "2022-08-25T21:29:15.954364Z",
          "shell.execute_reply": "2022-08-25T21:29:15.961555Z"
        },
        "trusted": true,
        "id": "XFXK_jcrVjA2"
      },
      "execution_count": null,
      "outputs": []
    },
    {
      "cell_type": "code",
      "source": [
        "idx = np.random.randint(len(train_dataset))\n",
        "right, wrong = train_dataset[idx]\n",
        "_, axs = plt.subplots(1, 2, figsize=(5, 5))\n",
        "visualize(*right, train_dataset.tokenizer, axs[0], \"Right\")\n",
        "visualize(*wrong, ax = axs[1], title = \"Wrong\")\n",
        "plt.show()"
      ],
      "metadata": {
        "execution": {
          "iopub.status.busy": "2022-08-25T21:29:15.964212Z",
          "iopub.execute_input": "2022-08-25T21:29:15.964776Z",
          "iopub.status.idle": "2022-08-25T21:29:21.985451Z",
          "shell.execute_reply.started": "2022-08-25T21:29:15.964529Z",
          "shell.execute_reply": "2022-08-25T21:29:21.984562Z"
        },
        "trusted": true,
        "id": "yQYffW_ZVjA3"
      },
      "execution_count": null,
      "outputs": []
    },
    {
      "cell_type": "code",
      "source": [
        "#use pretrain checkpoint\n",
        "if os.path.exists('./The Flower checkpoint3.pt'):\n",
        "    checkpoint = torch.load('./The Flower checkpoint3.pt', map_location=device)\n",
        "    torch.save(checkpoint, \"The Flower checkpoint3.pt\")\n",
        "else:\n",
        "    print('the file is not exist')\n",
        "    checkpoint = {}"
      ],
      "metadata": {
        "execution": {
          "iopub.status.busy": "2022-08-25T21:29:21.986846Z",
          "iopub.execute_input": "2022-08-25T21:29:21.987154Z",
          "iopub.status.idle": "2022-08-25T21:29:21.993316Z",
          "shell.execute_reply.started": "2022-08-25T21:29:21.987110Z",
          "shell.execute_reply": "2022-08-25T21:29:21.992192Z"
        },
        "trusted": true,
        "id": "9uFeeeKQVjA4"
      },
      "execution_count": null,
      "outputs": []
    },
    {
      "cell_type": "code",
      "source": [
        "train_indices = checkpoint.get('train_indices', None)\n",
        "valid_indices = checkpoint.get('valid_indices', None)\n",
        "if train_indices is None or valid_indices is None:\n",
        "    sss = StratifiedShuffleSplit(n_splits=1, test_size=0.2)\n",
        "    splitter = sss.split(train_dataset, np.array([len(x[\"text\"][\"input_ids\"])%10 for x in train_dataset.data]))\n",
        "    train_indices, valid_indices = next(splitter)\n",
        "# Creating PT data samplers and loaders\n",
        "train_sampler = SubsetRandomSampler(train_indices)\n",
        "valid_sampler = SubsetRandomSampler(valid_indices)\n",
        "train_loader = DataLoader(train_dataset, batch_size=batch_size, sampler=train_sampler, collate_fn=train_dataset.collate_fn, drop_last=True)\n",
        "valid_loader = DataLoader(train_dataset, batch_size=batch_size, sampler=valid_sampler, collate_fn=train_dataset.collate_fn, drop_last=True)"
      ],
      "metadata": {
        "execution": {
          "iopub.status.busy": "2022-08-25T21:29:21.995409Z",
          "iopub.execute_input": "2022-08-25T21:29:21.996129Z",
          "iopub.status.idle": "2022-08-25T21:29:22.033612Z",
          "shell.execute_reply.started": "2022-08-25T21:29:21.996085Z",
          "shell.execute_reply": "2022-08-25T21:29:22.032852Z"
        },
        "trusted": true,
        "id": "QaLtU-ZlVjA5"
      },
      "execution_count": null,
      "outputs": []
    },
    {
      "cell_type": "code",
      "source": [
        "text_encoder_model = \"distilbert-base-uncased\"\n",
        "pretrained = True \n",
        "trainable = False  "
      ],
      "metadata": {
        "execution": {
          "iopub.status.busy": "2022-08-25T21:29:22.034844Z",
          "iopub.execute_input": "2022-08-25T21:29:22.035162Z",
          "iopub.status.idle": "2022-08-25T21:29:22.039280Z",
          "shell.execute_reply.started": "2022-08-25T21:29:22.035129Z",
          "shell.execute_reply": "2022-08-25T21:29:22.038352Z"
        },
        "trusted": true,
        "id": "Zd4PBDH1VjA6"
      },
      "execution_count": null,
      "outputs": []
    },
    {
      "cell_type": "code",
      "source": [
        "class text(nn.Module):\n",
        "    def __init__(self, model_name=text_encoder_model, pretrained=pretrained, trainable=trainable):\n",
        "            super().__init__()\n",
        "\n",
        "            self.transformer = DistilBertModel.from_pretrained(model_name)\n",
        "\n",
        "            for p in self.transformer.parameters():\n",
        "                p.requires_grad = trainable\n",
        "\n",
        "            # we are using the CLS token hidden representation as the sentence's embedding\n",
        "            self.target_token_idx = 0\n",
        "\n",
        "    def forward(self, input_ids, token_type_ids, attention_mask):\n",
        "        hidden = self.transformer(\n",
        "            input_ids=input_ids,\n",
        "            attention_mask=attention_mask\n",
        "        ).last_hidden_state            \n",
        "        return hidden"
      ],
      "metadata": {
        "execution": {
          "iopub.status.busy": "2022-08-25T21:29:22.041015Z",
          "iopub.execute_input": "2022-08-25T21:29:22.041695Z",
          "iopub.status.idle": "2022-08-25T21:29:22.049537Z",
          "shell.execute_reply.started": "2022-08-25T21:29:22.041659Z",
          "shell.execute_reply": "2022-08-25T21:29:22.048476Z"
        },
        "trusted": true,
        "id": "UHO_rNo5VjA6"
      },
      "execution_count": null,
      "outputs": []
    },
    {
      "cell_type": "code",
      "source": [
        "class Generator(nn.Module):\n",
        "    def __init__(self, hidden_dim =768, latent_dim = 768, model_name=text_encoder_model, pretrained=pretrained, trainable=trainable):\n",
        "        super().__init__()\n",
        "\n",
        "\n",
        "        self.lstm = nn.LSTM(768,64, batch_first = True, bidirectional = True)\n",
        "        self.linear = nn.Sequential(nn.Linear(64*2, 256),\n",
        "                                    nn.ReLU(),\n",
        "                                    nn.Linear(256,512))\n",
        "\n",
        "        self.latent = nn.Sequential(\n",
        "            nn.Linear(768, 512),\n",
        "            nn.LeakyReLU(0.1)\n",
        "            )\n",
        "\n",
        "        self.model = nn.Sequential(\n",
        "            # input is Z, going into a convolution\n",
        "            nn.ConvTranspose2d(64, 16, 2),\n",
        "            nn.BatchNorm2d(16),\n",
        "            nn.ReLU(),\n",
        "            nn.ConvTranspose2d(16, 32, 2),\n",
        "            nn.Dropout2d(0.5),            \n",
        "            nn.BatchNorm2d(32),\n",
        "            nn.ReLU(),\n",
        "            nn.ConvTranspose2d(32, 128, 2,2),\n",
        "            nn.Dropout2d(0.5),            \n",
        "            nn.BatchNorm2d(128),\n",
        "            nn.ReLU(),\n",
        "            nn.ConvTranspose2d(128, 256, 2),\n",
        "            nn.Dropout2d(0.5),            \n",
        "            nn.BatchNorm2d(256),\n",
        "            nn.ReLU(),\n",
        "            nn.ConvTranspose2d(256, 64, 2),\n",
        "            nn.Dropout2d(0.5),            \n",
        "            nn.BatchNorm2d(64),\n",
        "            nn.ReLU(),\n",
        "            nn.ConvTranspose2d(64, 512, 2),\n",
        "            nn.Dropout2d(0.5),            \n",
        "            nn.BatchNorm2d(512),\n",
        "            nn.ReLU(),\n",
        "            nn.ConvTranspose2d(512, 128, 2),\n",
        "            nn.Dropout2d(0.5),            \n",
        "            nn.BatchNorm2d(128),\n",
        "            nn.ReLU(),\n",
        "            nn.ConvTranspose2d(128, 32, 1),\n",
        "            nn.Dropout2d(0.5),            \n",
        "            nn.BatchNorm2d(32),\n",
        "            nn.ReLU(),\n",
        "            nn.ConvTranspose2d(32, 64, 2,2),\n",
        "            nn.Dropout2d(0.5),            \n",
        "            nn.BatchNorm2d(64),\n",
        "            nn.ReLU(),\n",
        "            nn.ConvTranspose2d(64, 3, 2,2),\n",
        "            nn.Tanh())\n",
        "        \n",
        "            \n",
        "    def forward(self,noise, encoded_text):\n",
        "        output,(hidden,c) = self.lstm(encoded_text)\n",
        "        hidden = torch.cat((hidden[-2,:,:], hidden[-1,:,:]), dim = 1)\n",
        "        hidden = self.linear(hidden)\n",
        "        noise = self.latent(noise)\n",
        "        x = torch.cat([noise,hidden],dim=1) #size[batch_size, 1024]\n",
        "        batch_size = x.shape[0]\n",
        "        x = x.view(batch_size , 64, 4, 4) #size[batch_size, 64, 4, 4]\n",
        "        x = self.model(x)\n",
        "        #x = [128,3,64,64]\n",
        "        \n",
        "        return x\n",
        "\n",
        "class Discriminator(nn.Module):\n",
        "    def __init__(self, model_name=text_encoder_model, pretrained=pretrained, trainable=trainable):\n",
        "        super().__init__()\n",
        "        \n",
        "\n",
        "        self.lstm = nn.LSTM(768,64, batch_first = True, bidirectional = True)\n",
        "        self.linear = nn.Sequential(nn.Linear(64*2, 256),\n",
        "                                    nn.ReLU(),\n",
        "                                    nn.Linear(256,64*64*3))\n",
        "\n",
        "        self.model = nn.Sequential(\n",
        "            # input is 6 x 64 x 64\n",
        "            nn.Conv2d(6, 64, 2, 2, bias=False),\n",
        "            nn.LeakyReLU(0.2, inplace=True),\n",
        "            nn.Conv2d(64, 128, 2, 2, bias=False),\n",
        "            nn.BatchNorm2d(128),\n",
        "            nn.LeakyReLU(0.2, inplace=True),\n",
        "            nn.Conv2d(128, 256, 2,2 ,bias=False),\n",
        "            nn.BatchNorm2d(256),\n",
        "            nn.LeakyReLU(0.2, inplace=True),\n",
        "            nn.Conv2d(256 , 64, 2,bias=False), \n",
        "            nn.BatchNorm2d(64),\n",
        "            nn.LeakyReLU(0.2,inplace=True),\n",
        "            nn.Conv2d(64 , 16, 3, bias=False), \n",
        "            nn.BatchNorm2d(16),\n",
        "            nn.LeakyReLU(0.2,inplace=True),\n",
        "            nn.Conv2d(16 , 32, 3, bias=False), \n",
        "            nn.BatchNorm2d(32),\n",
        "            nn.LeakyReLU(0.2,inplace=True),\n",
        "            nn.Flatten(),\n",
        "            nn.Linear(288,1))\n",
        "        \n",
        "\n",
        "    \n",
        "    def forward(self, x,encoded_text):                                                    \n",
        "        output,(hidden,c) = self.lstm(encoded_text)#[batch_size,*, 768]\n",
        "        hidden = torch.cat((hidden[-2,:,:], hidden[-1,:,:]), dim = 1)\n",
        "        hidden = self.linear(hidden)\n",
        "        batch_size = x.shape[0]\n",
        "        hidden = hidden.view(batch_size, -1, 64,64)\n",
        "        x = x.type(torch.FloatTensor)\n",
        "        x = torch.cat([x.to(device), hidden], dim=1)\n",
        "        x = self.model(x)\n",
        "        return x\n",
        "\n"
      ],
      "metadata": {
        "execution": {
          "iopub.status.busy": "2022-08-25T21:29:22.444048Z",
          "iopub.execute_input": "2022-08-25T21:29:22.444387Z",
          "iopub.status.idle": "2022-08-25T21:29:22.463794Z",
          "shell.execute_reply.started": "2022-08-25T21:29:22.444350Z",
          "shell.execute_reply": "2022-08-25T21:29:22.462968Z"
        },
        "trusted": true,
        "id": "LTR9VBt0VjA7"
      },
      "execution_count": null,
      "outputs": []
    },
    {
      "cell_type": "code",
      "source": [
        "loader = tqdm(train_loader, desc = f\"Training\")\n",
        "for idx, ((right_images, right_texts), (wrong_images, wrong_texts)) in enumerate(train_loader, start=1):\n",
        "        # Execute\n",
        "        enc_right_texts = models[\"text_encoder\"](**right_texts).detach()\n",
        "        enc_wrong_texts = models[\"text_encoder\"](**wrong_texts).detach()\n",
        "        break"
      ],
      "metadata": {
        "execution": {
          "iopub.status.busy": "2022-08-24T11:07:20.552502Z",
          "iopub.execute_input": "2022-08-24T11:07:20.552827Z",
          "iopub.status.idle": "2022-08-24T11:07:21.084313Z",
          "shell.execute_reply.started": "2022-08-24T11:07:20.552793Z",
          "shell.execute_reply": "2022-08-24T11:07:21.083397Z"
        },
        "trusted": true,
        "id": "UaTPFr_DVjA8"
      },
      "execution_count": null,
      "outputs": []
    },
    {
      "cell_type": "code",
      "source": [
        "models = {\n",
        "    \"text_encoder\": text().to(device),\n",
        "    \"generator\": Generator().to(device),\n",
        "    \"discriminator\": Discriminator().to(device)\n",
        "}\n",
        "optimizers = {}\n",
        "schedulers = {}\n",
        "criterion = nn.BCEWithLogitsLoss()\n",
        "learning_rates = {\"text_encoder\": 1e-4, \"generator\": 5e-4, \"discriminator\": 1e-4}\n",
        "for key in models:\n",
        "    if key == \"text_encoder\": continue\n",
        "    models[key].load_state_dict(checkpoint.get(\"models\", {}).get(key, models[key].state_dict()))\n",
        "    # Prepare optimizer and schedule (linear warmup and decay)\n",
        "    optimizers[key] = torch.optim.Adam(models[key].parameters(), lr=learning_rates[key], weight_decay=1e-6)\n",
        "    optimizers[key].load_state_dict(checkpoint.get(\"optimizers\", {}).get(key, optimizers[key].state_dict()))\n",
        "    schedulers[key] = torch.optim.lr_scheduler.StepLR(optimizers[key], step_size=50, gamma=0.1, last_epoch=-1)\n",
        "    schedulers[key].load_state_dict(checkpoint.get(\"schedulers\", {}).get(key, schedulers[key].state_dict()))"
      ],
      "metadata": {
        "execution": {
          "iopub.status.busy": "2022-08-25T21:29:22.465333Z",
          "iopub.execute_input": "2022-08-25T21:29:22.465875Z",
          "iopub.status.idle": "2022-08-25T21:29:57.143655Z",
          "shell.execute_reply.started": "2022-08-25T21:29:22.465840Z",
          "shell.execute_reply": "2022-08-25T21:29:57.139247Z"
        },
        "trusted": true,
        "id": "PHa8tw2fVjA9"
      },
      "execution_count": null,
      "outputs": []
    },
    {
      "cell_type": "code",
      "source": [
        "def count_parameters(model):\n",
        "    return sum(p.numel() for p in model.parameters() if p.requires_grad)\n",
        "\n",
        "print(f'The generator has {count_parameters(models[\"generator\"]):,} trainable parameters')\n",
        "print(f'The discriminator has {count_parameters(models[\"discriminator\"]):,} trainable parameters')\n",
        "print(f'The Text Encoder has {count_parameters(models[\"text_encoder\"]):,} trainable parameters')"
      ],
      "metadata": {
        "execution": {
          "iopub.status.busy": "2022-08-25T21:29:57.148194Z",
          "iopub.execute_input": "2022-08-25T21:29:57.150443Z",
          "iopub.status.idle": "2022-08-25T21:29:57.166809Z",
          "shell.execute_reply.started": "2022-08-25T21:29:57.150400Z",
          "shell.execute_reply": "2022-08-25T21:29:57.166031Z"
        },
        "trusted": true,
        "id": "6AuCAC9lVjA9"
      },
      "execution_count": null,
      "outputs": []
    },
    {
      "cell_type": "code",
      "source": [
        "def valid():\n",
        "    total_dis_loss, total_gen_loss = 0, 0\n",
        "    total_dis_score, total_gen_score = 0, 0\n",
        "    template = \"Dis Loss: {:.4f}, Dis Score: {:.4f}, Gen Loss: {:.4f}, Gen Score: {:.4f}\"\n",
        "    for key in models:\n",
        "        models[key].eval()\n",
        "    loader = tqdm(valid_loader, desc = f\"Validating\")\n",
        "    for idx, ((right_images, right_texts), (wrong_images, wrong_texts)) in enumerate(loader, start=1):\n",
        "        # Execute\n",
        "        with torch.no_grad():\n",
        "            enc_right_texts = models[\"text_encoder\"](**right_texts).detach()\n",
        "            enc_wrong_texts = models[\"text_encoder\"](**wrong_texts).detach()\n",
        "\n",
        "            noise = torch.randn((len(right_images), 768),device = device)\n",
        "            ones = torch.ones((len(right_images),1), dtype=torch.float, device=device)\n",
        "            zeros = torch.zeros((len(right_images),1), dtype=torch.float, device=device)\n",
        "            fake_images = models[\"generator\"](noise, enc_right_texts)\n",
        "\n",
        "            dis_right_logits = models[\"discriminator\"](right_images, enc_right_texts)\n",
        "            dis_wrong_text_logits =  models[\"discriminator\"](right_images, enc_wrong_texts)\n",
        "            dis_wrong_image_logits =  models[\"discriminator\"](wrong_images, enc_right_texts)\n",
        "            dis_fake_logits = models[\"discriminator\"](fake_images.detach(), enc_right_texts)\n",
        "\n",
        "            dis_real_loss = criterion(dis_right_logits, ones)\n",
        "            dis_wrong_text_loss = criterion(dis_wrong_text_logits, zeros)\n",
        "            dis_wrong_image_loss = criterion(dis_wrong_image_logits, zeros)\n",
        "            dis_fake_loss = criterion(dis_fake_logits, zeros)\n",
        "            dis_loss = dis_real_loss + 0.25*dis_wrong_text_loss + 0.25*dis_wrong_image_loss + 0.5*dis_fake_loss\n",
        "\n",
        "            dis_fake_logits = models[\"discriminator\"](fake_images, enc_right_texts)\n",
        "            gen_loss = criterion(dis_fake_logits, ones)\n",
        "\n",
        "        dis_score, gen_score = torch.tensor(0), torch.tensor(0)\n",
        "\n",
        "        total_dis_loss += dis_loss.item(); total_gen_loss += gen_loss.item()\n",
        "        total_dis_score += dis_score.item(); total_gen_score += gen_score.item()\n",
        "        # print statistics\n",
        "        loader.set_postfix_str(template.format(dis_loss, dis_score, gen_loss, gen_score))\n",
        "        loader.update()\n",
        "        # Clear variable\n",
        "        del right_images; del right_texts; del wrong_images; del wrong_texts\n",
        "        del enc_right_texts; del enc_wrong_texts; del noise; del fake_images\n",
        "        del ones; del zeros; del dis_right_logits; del dis_wrong_text_logits\n",
        "        del dis_wrong_image_logits; del dis_fake_logits; del dis_real_loss\n",
        "        del dis_wrong_text_loss; del dis_wrong_image_loss; del dis_fake_loss\n",
        "        del dis_loss; del gen_loss; del dis_score; del gen_score\n",
        "        torch.cuda.empty_cache()\n",
        "    template = template.format(total_dis_loss/idx, total_dis_score/idx, total_gen_loss/idx, total_gen_score/idx)\n",
        "    loader.write(f\"Validated | {template}\")\n",
        "    return total_dis_loss/idx, total_dis_score/idx, total_gen_loss/idx, total_gen_score/idx\n"
      ],
      "metadata": {
        "execution": {
          "iopub.status.busy": "2022-08-25T21:29:57.170704Z",
          "iopub.execute_input": "2022-08-25T21:29:57.172680Z",
          "iopub.status.idle": "2022-08-25T21:29:57.191375Z",
          "shell.execute_reply.started": "2022-08-25T21:29:57.172642Z",
          "shell.execute_reply": "2022-08-25T21:29:57.190289Z"
        },
        "trusted": true,
        "id": "dm8PENuHVjA-"
      },
      "execution_count": null,
      "outputs": []
    },
    {
      "cell_type": "code",
      "source": [
        "def train():\n",
        "    total_dis_loss, total_gen_loss = 0, 0\n",
        "    total_dis_score, total_gen_score = 0, 0\n",
        "    template = \"Dis Loss: {:.4f}, Dis Score: {:.4f}, Gen Loss: {:.4f}, Gen Score: {:.4f}\"\n",
        "    for key in models:\n",
        "        models[key].train()\n",
        "    loader = tqdm(train_loader, desc = f\"Training\")\n",
        "    for idx, ((right_images, right_texts), (wrong_images, wrong_texts)) in enumerate(loader, start=1):\n",
        "        # Execute\n",
        "        enc_right_texts = models[\"text_encoder\"](**right_texts).detach()\n",
        "        enc_wrong_texts = models[\"text_encoder\"](**wrong_texts).detach()\n",
        "\n",
        "        noise = torch.randn((len(right_images), 768), device=device)\n",
        "        ones = torch.ones((len(right_images),1), dtype=torch.float, device=device)\n",
        "        zeros = torch.zeros((len(right_images),1), dtype=torch.float, device=device)\n",
        "        fake_images = models[\"generator\"](noise, enc_right_texts)\n",
        "\n",
        "        dis_right_logits = models[\"discriminator\"](right_images, enc_right_texts)\n",
        "        dis_wrong_text_logits = models[\"discriminator\"](right_images, enc_wrong_texts)\n",
        "        dis_wrong_image_logits = models[\"discriminator\"](wrong_images, enc_right_texts)\n",
        "        dis_fake_logits = models[\"discriminator\"](fake_images.detach(), enc_right_texts)\n",
        "\n",
        "        dis_real_loss = criterion(dis_right_logits, ones)\n",
        "        dis_wrong_text_loss = criterion(dis_wrong_text_logits, zeros)\n",
        "        dis_wrong_image_loss = criterion(dis_wrong_image_logits, zeros)\n",
        "        dis_fake_loss = criterion(dis_fake_logits, zeros)\n",
        "        dis_loss = dis_real_loss + 0.25*dis_wrong_text_loss + 0.25*dis_wrong_image_loss + 0.5*dis_fake_loss\n",
        "\n",
        "        optimizers[\"discriminator\"].zero_grad()\n",
        "        dis_loss.backward()\n",
        "        optimizers[\"discriminator\"].step()\n",
        "\n",
        "        dis_fake_logits = models[\"discriminator\"](fake_images, enc_right_texts)\n",
        "        gen_loss = criterion(dis_fake_logits, ones)\n",
        "        optimizers[\"generator\"].zero_grad()\n",
        "        gen_loss.backward()\n",
        "        optimizers[\"generator\"].step()\n",
        "\n",
        "        dis_score, gen_score = torch.tensor(0), torch.tensor(0)\n",
        "\n",
        "        total_dis_loss += dis_loss.item(); total_gen_loss += gen_loss.item()\n",
        "        total_dis_score += dis_score.item(); total_gen_score += gen_score.item()\n",
        "        # print statistics\n",
        "        loader.set_postfix_str(template.format(dis_loss, dis_score, gen_loss, gen_score))\n",
        "        loader.update()\n",
        "        # Clear variable\n",
        "        del right_images; del right_texts; del wrong_images; del wrong_texts\n",
        "        del enc_right_texts; del enc_wrong_texts; del noise; del fake_images\n",
        "        del ones; del zeros; del dis_right_logits; del dis_wrong_text_logits\n",
        "        del dis_wrong_image_logits; del dis_fake_logits; del dis_real_loss\n",
        "        del dis_wrong_text_loss; del dis_wrong_image_loss; del dis_fake_loss\n",
        "        del dis_loss; del gen_loss; del dis_score; del gen_score\n",
        "        torch.cuda.empty_cache()\n",
        "    template = template.format(total_dis_loss/idx, total_dis_score/idx, total_gen_loss/idx, total_gen_score/idx)\n",
        "    loader.write(f\"Trained | {template}\")\n",
        "    for key in schedulers:\n",
        "        schedulers[key].step()\n",
        "    return total_dis_loss/idx, total_dis_score/idx, total_gen_loss/idx, total_gen_score/idx"
      ],
      "metadata": {
        "execution": {
          "iopub.status.busy": "2022-08-25T21:29:57.196088Z",
          "iopub.execute_input": "2022-08-25T21:29:57.198164Z",
          "iopub.status.idle": "2022-08-25T21:29:57.217962Z",
          "shell.execute_reply.started": "2022-08-25T21:29:57.198128Z",
          "shell.execute_reply": "2022-08-25T21:29:57.217088Z"
        },
        "trusted": true,
        "id": "0B4uzoOQVjA_"
      },
      "execution_count": null,
      "outputs": []
    },
    {
      "cell_type": "code",
      "source": [
        "train_data = checkpoint.get('train_data', np.empty((0, 4)))\n",
        "valid_data = checkpoint.get('valid_data', np.empty((0, 4)))\n",
        "epoch_data = checkpoint.get('epoch_data', [])\n",
        "# del checkpoint\n",
        "def plot_training_data(ax, epoch_data, train_data, valid_data):\n",
        "    ax[0].clear(); ax[1].clear(); ax[2].clear(); ax[3].clear()\n",
        "    ax[0].plot(epoch_data, train_data[:, 0], label = f\"Train dis loss {train_data[-1, 0]:.4f}\")\n",
        "    ax[0].plot(epoch_data, valid_data[:, 0], label = f\"Valid dis loss {valid_data[-1, 0]:.4f}\")\n",
        "    ax[1].plot(epoch_data, train_data[:, 1], label = f\"Train dis score {train_data[-1, 1]:.4f}\")\n",
        "    ax[1].plot(epoch_data, valid_data[:, 1], label = f\"Valid dis score {valid_data[-1, 1]:.4f}\")\n",
        "    ax[2].plot(epoch_data, train_data[:, 2], label = f\"Train gen loss {train_data[-1, 2]:.4f}\")\n",
        "    ax[2].plot(epoch_data, valid_data[:, 2], label = f\"Valid gen loss {valid_data[-1, 2]:.4f}\")\n",
        "    ax[3].plot(epoch_data, train_data[:, 3], label = f\"Train gen score {train_data[-1, 3]:.4f}\")\n",
        "    ax[3].plot(epoch_data, valid_data[:, 3], label = f\"Valid gen score {valid_data[-1, 3]:.4f}\")\n",
        "    ax[0].legend(); ax[1].legend(); ax[2].legend(); ax[3].legend()\n",
        "if epoch_data:\n",
        "    fig, ax = plt.subplots(1, 4, figsize=(10*4, 5))\n",
        "    plot_training_data(ax, epoch_data, train_data, valid_data)\n",
        "    plt.show()"
      ],
      "metadata": {
        "execution": {
          "iopub.status.busy": "2022-08-25T21:29:57.222592Z",
          "iopub.execute_input": "2022-08-25T21:29:57.224687Z",
          "iopub.status.idle": "2022-08-25T21:29:57.239014Z",
          "shell.execute_reply.started": "2022-08-25T21:29:57.224652Z",
          "shell.execute_reply": "2022-08-25T21:29:57.237946Z"
        },
        "trusted": true,
        "id": "3LXkmPwxVjBB"
      },
      "execution_count": null,
      "outputs": []
    },
    {
      "cell_type": "code",
      "source": [
        "num_epoch = 50"
      ],
      "metadata": {
        "execution": {
          "iopub.status.busy": "2022-08-25T21:29:57.240341Z",
          "iopub.execute_input": "2022-08-25T21:29:57.240681Z",
          "iopub.status.idle": "2022-08-25T21:29:57.249680Z",
          "shell.execute_reply.started": "2022-08-25T21:29:57.240646Z",
          "shell.execute_reply": "2022-08-25T21:29:57.248658Z"
        },
        "trusted": true,
        "id": "EeIZADK7VjBC"
      },
      "execution_count": null,
      "outputs": []
    },
    {
      "cell_type": "code",
      "source": [
        "loader = tqdm(range(len(epoch_data), len(epoch_data) + num_epoch * training), desc = \"Epoch\")\n",
        "board = ipywidgets.Output()\n",
        "if training: display.display(board)\n",
        "graph = display.display(ipywidgets.widgets.HTML(f\"<b>Training statred: {bool(training)}</b>\"), display_id = True)\n",
        "for i in loader:\n",
        "    with board:\n",
        "        epoch_data.append(i+1)\n",
        "        # Make grid\n",
        "        fig, ax = plt.subplots(1, 4, figsize=(10*4, 5))\n",
        "        # Close figure\n",
        "        plt.close(fig)\n",
        "        train_data = np.append(train_data, [train()], axis = 0)\n",
        "        valid_data = np.append(valid_data, [valid()], axis = 0)\n",
        "        # Visualize\n",
        "        plot_training_data(ax, epoch_data, train_data, valid_data)\n",
        "        graph.update(fig)\n",
        "        # Clear all progress bar with in board widget\n",
        "        display.clear_output()\n",
        "        graph = display.display(fig, display_id = True)\n",
        "    # Save model\n",
        "    params = {\n",
        "        'models': dict([(key, models[key].state_dict()) for key in models]),\n",
        "        'optimizers': dict([(key, optimizers[key].state_dict()) for key in optimizers]),\n",
        "        'schedulers': dict([(key, schedulers[key].state_dict()) for key in schedulers]),\n",
        "        'train_indices': train_indices,\n",
        "        'valid_indices': valid_indices,\n",
        "        'train_data': train_data,\n",
        "        'valid_data': valid_data,\n",
        "        'epoch_data': epoch_data\n",
        "    }\n",
        "    torch.save(params, \"The Flower checkpoint4.pt\")\n",
        "loader.write(\"Done!\")"
      ],
      "metadata": {
        "execution": {
          "iopub.status.busy": "2022-08-25T21:29:57.251145Z",
          "iopub.execute_input": "2022-08-25T21:29:57.251726Z",
          "iopub.status.idle": "2022-08-26T04:32:47.749757Z",
          "shell.execute_reply.started": "2022-08-25T21:29:57.251692Z",
          "shell.execute_reply": "2022-08-26T04:32:47.748673Z"
        },
        "trusted": true,
        "id": "ZoNsg_-SVjBD"
      },
      "execution_count": null,
      "outputs": []
    },
    {
      "cell_type": "code",
      "source": [
        "idx = np.random.randint(len(train_dataset))\n",
        "(image, text), _ = train_dataset[idx]\n",
        "params = {}\n",
        "for key in text:\n",
        "    params[key] = torch.tensor(text[key], device=device)[None]\n",
        "for key in models:\n",
        "    models[key].eval()\n",
        "enc_text = models[\"text_encoder\"](**params)\n",
        "noise = torch.randn((1, 768), device=device)\n",
        "gen_image = models[\"generator\"](noise, enc_text).detach().squeeze().cpu()\n",
        "_, axs = plt.subplots(1, 2, figsize=(5, 5))\n",
        "visualize(image, text, train_dataset.tokenizer, axs[0], \"Right\")\n",
        "visualize(gen_image, text, None, axs[1], \"Generated\")\n",
        "plt.show()"
      ],
      "metadata": {
        "execution": {
          "iopub.status.busy": "2022-08-25T21:05:17.723044Z",
          "iopub.execute_input": "2022-08-25T21:05:17.723374Z",
          "iopub.status.idle": "2022-08-25T21:05:17.978496Z",
          "shell.execute_reply.started": "2022-08-25T21:05:17.723344Z",
          "shell.execute_reply": "2022-08-25T21:05:17.977685Z"
        },
        "trusted": true,
        "id": "BGH30gGDVjBE"
      },
      "execution_count": null,
      "outputs": []
    },
    {
      "cell_type": "code",
      "source": [
        "params = {}\n",
        "txt=input()\n",
        "text = np.array(txt).item().strip()\n",
        "tokenizer = DistilBertTokenizer.from_pretrained(\"distilbert-base-uncased\")\n",
        "input_ids = tokenizer.encode(text)\n",
        "token_type_ids = [0] * (len(input_ids) - 1) + [1]\n",
        "attention_mask = [1] * len(token_type_ids)\n",
        "text = {\n",
        "    \"input_ids\": input_ids,\n",
        "    \"token_type_ids\": token_type_ids,\n",
        "    \"attention_mask\": attention_mask\n",
        "}\n",
        "for key in models:\n",
        "    models[key].eval()\n",
        "for key in text:\n",
        "#     print(key)\n",
        "    params[key] = torch.tensor(text[key], device=device)[None]\n",
        "enc_text = models[\"text_encoder\"](**params)\n",
        "noise = torch.randn((1, 768), device=device)\n",
        "gen_image = models[\"generator\"](noise, enc_text).detach().squeeze().cpu()\n",
        "\n",
        "_, ax = plt.subplots(1, 1, figsize=(5, 5))\n",
        "visualize(gen_image, text, train_dataset.tokenizer, ax, title = \"Generated Image\")\n",
        "plt.show()"
      ],
      "metadata": {
        "execution": {
          "iopub.status.busy": "2022-08-25T21:07:52.274599Z",
          "iopub.execute_input": "2022-08-25T21:07:52.274980Z",
          "iopub.status.idle": "2022-08-25T21:08:12.964894Z",
          "shell.execute_reply.started": "2022-08-25T21:07:52.274947Z",
          "shell.execute_reply": "2022-08-25T21:08:12.964073Z"
        },
        "trusted": true,
        "id": "S-14DvvgVjBE"
      },
      "execution_count": null,
      "outputs": []
    },
    {
      "cell_type": "code",
      "source": [
        "#this function let me download the weights from Kaggle\n",
        "from IPython.display import FileLink\n",
        "FileLink('./The Flower checkpoint3.pt')"
      ],
      "metadata": {
        "execution": {
          "iopub.status.busy": "2022-08-25T21:09:14.872030Z",
          "iopub.execute_input": "2022-08-25T21:09:14.872399Z",
          "iopub.status.idle": "2022-08-25T21:09:14.879812Z",
          "shell.execute_reply.started": "2022-08-25T21:09:14.872362Z",
          "shell.execute_reply": "2022-08-25T21:09:14.878837Z"
        },
        "trusted": true,
        "id": "s_8OBieYVjBF"
      },
      "execution_count": null,
      "outputs": []
    },
    {
      "cell_type": "code",
      "source": [
        "torch.save(params, \"./The Flower checkpoint3.pt\")"
      ],
      "metadata": {
        "execution": {
          "iopub.status.busy": "2022-08-25T21:07:14.613683Z",
          "iopub.execute_input": "2022-08-25T21:07:14.614065Z",
          "iopub.status.idle": "2022-08-25T21:07:14.675251Z",
          "shell.execute_reply.started": "2022-08-25T21:07:14.614031Z",
          "shell.execute_reply": "2022-08-25T21:07:14.674424Z"
        },
        "trusted": true,
        "id": "4TCm-9kxVjBF"
      },
      "execution_count": null,
      "outputs": []
    },
    {
      "cell_type": "code",
      "source": [],
      "metadata": {
        "id": "r2ylEEz6VjBF"
      },
      "execution_count": null,
      "outputs": []
    }
  ]
}